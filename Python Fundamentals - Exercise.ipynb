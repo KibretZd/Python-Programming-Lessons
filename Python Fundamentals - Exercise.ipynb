{
 "cells": [
  {
   "cell_type": "markdown",
   "id": "bb95c403",
   "metadata": {},
   "source": [
    "# Python Fundamentals\n",
    "## Arithmetic Operators "
   ]
  },
  {
   "cell_type": "code",
   "execution_count": 1,
   "id": "a782a852",
   "metadata": {},
   "outputs": [],
   "source": [
    "x = 5 + 3"
   ]
  },
  {
   "cell_type": "code",
   "execution_count": 2,
   "id": "b7e7602d",
   "metadata": {},
   "outputs": [
    {
     "name": "stdout",
     "output_type": "stream",
     "text": [
      "8\n"
     ]
    }
   ],
   "source": [
    "print(x)"
   ]
  },
  {
   "cell_type": "code",
   "execution_count": 3,
   "id": "73352872",
   "metadata": {},
   "outputs": [],
   "source": [
    "y = x-2"
   ]
  },
  {
   "cell_type": "code",
   "execution_count": 4,
   "id": "ce9fb21d",
   "metadata": {},
   "outputs": [
    {
     "name": "stdout",
     "output_type": "stream",
     "text": [
      "6\n"
     ]
    }
   ],
   "source": [
    "print(y)"
   ]
  },
  {
   "cell_type": "code",
   "execution_count": 5,
   "id": "b878137d",
   "metadata": {},
   "outputs": [
    {
     "data": {
      "text/plain": [
       "48"
      ]
     },
     "execution_count": 5,
     "metadata": {},
     "output_type": "execute_result"
    }
   ],
   "source": [
    "x*y"
   ]
  },
  {
   "cell_type": "code",
   "execution_count": 6,
   "id": "d9c839df",
   "metadata": {},
   "outputs": [
    {
     "name": "stdout",
     "output_type": "stream",
     "text": [
      "1.3333333333333333\n"
     ]
    }
   ],
   "source": [
    "print(x/y)"
   ]
  },
  {
   "cell_type": "code",
   "execution_count": 7,
   "id": "bee2202b",
   "metadata": {},
   "outputs": [
    {
     "name": "stdout",
     "output_type": "stream",
     "text": [
      "1\n"
     ]
    }
   ],
   "source": [
    "print( x // y)"
   ]
  },
  {
   "cell_type": "code",
   "execution_count": 10,
   "id": "49079a03",
   "metadata": {},
   "outputs": [
    {
     "name": "stdout",
     "output_type": "stream",
     "text": [
      "8\n"
     ]
    },
    {
     "data": {
      "text/plain": [
       "64"
      ]
     },
     "execution_count": 10,
     "metadata": {},
     "output_type": "execute_result"
    }
   ],
   "source": [
    "# Exponent operator\n",
    "print (x)\n",
    "x ** 2"
   ]
  },
  {
   "cell_type": "code",
   "execution_count": 30,
   "id": "25c2567f",
   "metadata": {},
   "outputs": [
    {
     "name": "stdout",
     "output_type": "stream",
     "text": [
      "2.449999999999932\n",
      "75.35\n"
     ]
    }
   ],
   "source": [
    "# Operator Precedence\n",
    "y = x * 7 % 3\n",
    "z = x * (7 % 3)\n",
    "print (y)\n",
    "print(z)"
   ]
  },
  {
   "attachments": {},
   "cell_type": "markdown",
   "id": "6839863b",
   "metadata": {},
   "source": [
    "## Relational Operators\n",
    "    Relational Operators are used to compare the values!"
   ]
  },
  {
   "cell_type": "code",
   "execution_count": 11,
   "id": "9eae5e97",
   "metadata": {},
   "outputs": [
    {
     "data": {
      "text/plain": [
       "True"
      ]
     },
     "execution_count": 11,
     "metadata": {},
     "output_type": "execute_result"
    }
   ],
   "source": [
    "3 < 5"
   ]
  },
  {
   "cell_type": "code",
   "execution_count": 12,
   "id": "5262a6ff",
   "metadata": {},
   "outputs": [
    {
     "data": {
      "text/plain": [
       "False"
      ]
     },
     "execution_count": 12,
     "metadata": {},
     "output_type": "execute_result"
    }
   ],
   "source": [
    "x>15"
   ]
  },
  {
   "cell_type": "code",
   "execution_count": 13,
   "id": "ae05062e",
   "metadata": {},
   "outputs": [
    {
     "data": {
      "text/plain": [
       "True"
      ]
     },
     "execution_count": 13,
     "metadata": {},
     "output_type": "execute_result"
    }
   ],
   "source": [
    "x <=10"
   ]
  },
  {
   "cell_type": "code",
   "execution_count": 14,
   "id": "483cc2b8",
   "metadata": {},
   "outputs": [
    {
     "name": "stdout",
     "output_type": "stream",
     "text": [
      "Value of x is  8  and value of y is 2\n",
      "X is not equals to y?  True\n"
     ]
    }
   ],
   "source": [
    "print(\"Value of x is \", x , ' and value of y is', y)\n",
    "print (\"X is not equals to y? \", x != y)"
   ]
  },
  {
   "cell_type": "code",
   "execution_count": 15,
   "id": "5a6cd853",
   "metadata": {},
   "outputs": [
    {
     "name": "stdout",
     "output_type": "stream",
     "text": [
      "Value of x is  8  and value of z is 8\n",
      "X is equals to z?  True\n"
     ]
    }
   ],
   "source": [
    "print(\"Value of x is \", x , ' and value of z is', z)\n",
    "print (\"X is equals to z? \", x == z)"
   ]
  },
  {
   "cell_type": "markdown",
   "id": "bf515352",
   "metadata": {},
   "source": [
    "## Assignment Operators\n",
    "    Used to assign values to the variables.\n"
   ]
  },
  {
   "cell_type": "code",
   "execution_count": 16,
   "id": "f1a0a8ba",
   "metadata": {},
   "outputs": [
    {
     "name": "stdout",
     "output_type": "stream",
     "text": [
      "25.3\n"
     ]
    }
   ],
   "source": [
    "x = 25.3\n",
    "print (x)"
   ]
  },
  {
   "cell_type": "code",
   "execution_count": 17,
   "id": "d8ee42b7",
   "metadata": {},
   "outputs": [],
   "source": [
    "x = 75.35"
   ]
  },
  {
   "cell_type": "code",
   "execution_count": 18,
   "id": "359b8b3f",
   "metadata": {},
   "outputs": [
    {
     "name": "stdout",
     "output_type": "stream",
     "text": [
      "75.35\n"
     ]
    }
   ],
   "source": [
    "print(x)"
   ]
  },
  {
   "cell_type": "code",
   "execution_count": 35,
   "id": "e5ba39a8",
   "metadata": {},
   "outputs": [
    {
     "name": "stdout",
     "output_type": "stream",
     "text": [
      "75.35017613006147\n",
      "75.35\n",
      "150.70017613006146\n"
     ]
    }
   ],
   "source": [
    "# add x to z\n",
    "print (z)\n",
    "print (x)\n",
    "z = z + x\n",
    "print(z)"
   ]
  },
  {
   "cell_type": "code",
   "execution_count": 22,
   "id": "43598699",
   "metadata": {},
   "outputs": [
    {
     "data": {
      "text/plain": [
       "2"
      ]
     },
     "execution_count": 22,
     "metadata": {},
     "output_type": "execute_result"
    }
   ],
   "source": [
    "y"
   ]
  },
  {
   "cell_type": "code",
   "execution_count": 27,
   "id": "ad6835d7",
   "metadata": {},
   "outputs": [],
   "source": [
    "y+=x   # y = y+x"
   ]
  },
  {
   "cell_type": "code",
   "execution_count": 28,
   "id": "84435eed",
   "metadata": {},
   "outputs": [
    {
     "name": "stdout",
     "output_type": "stream",
     "text": [
      "152.7\n"
     ]
    }
   ],
   "source": [
    "print (y)"
   ]
  },
  {
   "cell_type": "code",
   "execution_count": 36,
   "id": "311f31a2",
   "metadata": {},
   "outputs": [
    {
     "name": "stdout",
     "output_type": "stream",
     "text": [
      "2.0000023374925213\n"
     ]
    }
   ],
   "source": [
    "z /= x # z = z/x\n",
    "print(z)"
   ]
  },
  {
   "cell_type": "code",
   "execution_count": 39,
   "id": "afeb871d",
   "metadata": {},
   "outputs": [
    {
     "name": "stdout",
     "output_type": "stream",
     "text": [
      "36.030006249995985\n"
     ]
    }
   ],
   "source": [
    "y **= 2\n",
    "print(y)"
   ]
  },
  {
   "attachments": {},
   "cell_type": "markdown",
   "id": "990fc228",
   "metadata": {},
   "source": [
    "## Logical Operators\n",
    "    . Logical Operators are used to perform logical operations on thegiven two variables or values.\n",
    "    . Logical  Operators include\n",
    "        and\n",
    "        or\n",
    "        not"
   ]
  },
  {
   "cell_type": "code",
   "execution_count": 41,
   "id": "86eeefce",
   "metadata": {},
   "outputs": [],
   "source": [
    "x = True\n",
    "y = False"
   ]
  },
  {
   "cell_type": "code",
   "execution_count": 42,
   "id": "29aa5373",
   "metadata": {},
   "outputs": [
    {
     "data": {
      "text/plain": [
       "False"
      ]
     },
     "execution_count": 42,
     "metadata": {},
     "output_type": "execute_result"
    }
   ],
   "source": [
    "x  and y"
   ]
  },
  {
   "cell_type": "code",
   "execution_count": 43,
   "id": "29ad84af",
   "metadata": {},
   "outputs": [
    {
     "data": {
      "text/plain": [
       "True"
      ]
     },
     "execution_count": 43,
     "metadata": {},
     "output_type": "execute_result"
    }
   ],
   "source": [
    "x or y"
   ]
  },
  {
   "cell_type": "code",
   "execution_count": 44,
   "id": "63420d3a",
   "metadata": {},
   "outputs": [
    {
     "data": {
      "text/plain": [
       "False"
      ]
     },
     "execution_count": 44,
     "metadata": {},
     "output_type": "execute_result"
    }
   ],
   "source": [
    "not x"
   ]
  },
  {
   "cell_type": "code",
   "execution_count": 46,
   "id": "1ca802b1",
   "metadata": {},
   "outputs": [
    {
     "data": {
      "text/plain": [
       "True"
      ]
     },
     "execution_count": 46,
     "metadata": {},
     "output_type": "execute_result"
    }
   ],
   "source": [
    "not (x and y)"
   ]
  },
  {
   "cell_type": "code",
   "execution_count": 47,
   "id": "cab6211f",
   "metadata": {},
   "outputs": [
    {
     "data": {
      "text/plain": [
       "False"
      ]
     },
     "execution_count": 47,
     "metadata": {},
     "output_type": "execute_result"
    }
   ],
   "source": [
    "not x and y"
   ]
  },
  {
   "cell_type": "code",
   "execution_count": 49,
   "id": "92805528",
   "metadata": {},
   "outputs": [
    {
     "data": {
      "text/plain": [
       "True"
      ]
     },
     "execution_count": 49,
     "metadata": {},
     "output_type": "execute_result"
    }
   ],
   "source": [
    "x and not y"
   ]
  },
  {
   "cell_type": "markdown",
   "id": "a18ba8cb",
   "metadata": {},
   "source": [
    "## Bitwise Operators\n",
    "    Bitwise operator works on bits and performs bit by bit operation"
   ]
  },
  {
   "cell_type": "code",
   "execution_count": 51,
   "id": "c74dc273",
   "metadata": {},
   "outputs": [
    {
     "name": "stdout",
     "output_type": "stream",
     "text": [
      "X =  60 and y =  13\n"
     ]
    }
   ],
   "source": [
    "x = 60\n",
    "y = 13\n",
    "print('X = ', x, 'and y = ', y)"
   ]
  },
  {
   "cell_type": "code",
   "execution_count": 53,
   "id": "49df4da0",
   "metadata": {},
   "outputs": [
    {
     "data": {
      "text/plain": [
       "12"
      ]
     },
     "execution_count": 53,
     "metadata": {},
     "output_type": "execute_result"
    }
   ],
   "source": [
    "x & y"
   ]
  },
  {
   "cell_type": "code",
   "execution_count": 54,
   "id": "c27f416f",
   "metadata": {},
   "outputs": [
    {
     "data": {
      "text/plain": [
       "61"
      ]
     },
     "execution_count": 54,
     "metadata": {},
     "output_type": "execute_result"
    }
   ],
   "source": [
    "x | y"
   ]
  },
  {
   "cell_type": "code",
   "execution_count": 55,
   "id": "9c42efa5",
   "metadata": {},
   "outputs": [
    {
     "data": {
      "text/plain": [
       "49"
      ]
     },
     "execution_count": 55,
     "metadata": {},
     "output_type": "execute_result"
    }
   ],
   "source": [
    "x ^ y"
   ]
  },
  {
   "cell_type": "code",
   "execution_count": 56,
   "id": "73256f5f",
   "metadata": {},
   "outputs": [
    {
     "data": {
      "text/plain": [
       "-61"
      ]
     },
     "execution_count": 56,
     "metadata": {},
     "output_type": "execute_result"
    }
   ],
   "source": [
    "~x"
   ]
  },
  {
   "cell_type": "code",
   "execution_count": 57,
   "id": "72822712",
   "metadata": {},
   "outputs": [
    {
     "data": {
      "text/plain": [
       "240"
      ]
     },
     "execution_count": 57,
     "metadata": {},
     "output_type": "execute_result"
    }
   ],
   "source": [
    "x << 2"
   ]
  },
  {
   "cell_type": "code",
   "execution_count": 58,
   "id": "9b20bd70",
   "metadata": {},
   "outputs": [
    {
     "data": {
      "text/plain": [
       "15"
      ]
     },
     "execution_count": 58,
     "metadata": {},
     "output_type": "execute_result"
    }
   ],
   "source": [
    "x >> 2"
   ]
  },
  {
   "cell_type": "code",
   "execution_count": null,
   "id": "3d665435",
   "metadata": {},
   "outputs": [],
   "source": []
  }
 ],
 "metadata": {
  "kernelspec": {
   "display_name": "Python 3 (ipykernel)",
   "language": "python",
   "name": "python3"
  },
  "language_info": {
   "codemirror_mode": {
    "name": "ipython",
    "version": 3
   },
   "file_extension": ".py",
   "mimetype": "text/x-python",
   "name": "python",
   "nbconvert_exporter": "python",
   "pygments_lexer": "ipython3",
   "version": "3.9.13"
  }
 },
 "nbformat": 4,
 "nbformat_minor": 5
}

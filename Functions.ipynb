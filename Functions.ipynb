{
 "cells": [
  {
   "cell_type": "markdown",
   "id": "2f92a5fe",
   "metadata": {},
   "source": [
    "# Function in Python"
   ]
  },
  {
   "cell_type": "code",
   "execution_count": 1,
   "id": "6cd8f065",
   "metadata": {},
   "outputs": [],
   "source": [
    "def sum(x, y):\n",
    "    '''Fuction to add two arguments'''\n",
    "#     result = x + y\n",
    "#     return result\n",
    "    return (x + y)"
   ]
  },
  {
   "cell_type": "code",
   "execution_count": 2,
   "id": "d1ff103b",
   "metadata": {},
   "outputs": [],
   "source": [
    "a = 7\n",
    "b = 5\n",
    "# How to call the function sum(...)\n",
    "c = sum(a, b)"
   ]
  },
  {
   "cell_type": "code",
   "execution_count": 3,
   "id": "799178d4",
   "metadata": {},
   "outputs": [
    {
     "name": "stdout",
     "output_type": "stream",
     "text": [
      "12\n"
     ]
    }
   ],
   "source": [
    "print(c)"
   ]
  },
  {
   "cell_type": "code",
   "execution_count": 4,
   "id": "a4af2b8a",
   "metadata": {},
   "outputs": [
    {
     "name": "stdout",
     "output_type": "stream",
     "text": [
      "47\n"
     ]
    }
   ],
   "source": [
    "print(sum(a, 40))"
   ]
  },
  {
   "cell_type": "code",
   "execution_count": 4,
   "id": "4652b1b6",
   "metadata": {},
   "outputs": [],
   "source": [
    "def average(x, y, z):\n",
    "    total = x + y + z\n",
    "    return total/3.0"
   ]
  },
  {
   "cell_type": "code",
   "execution_count": 5,
   "id": "2ed58f0a",
   "metadata": {},
   "outputs": [
    {
     "data": {
      "text/plain": [
       "7.666666666666667"
      ]
     },
     "execution_count": 5,
     "metadata": {},
     "output_type": "execute_result"
    }
   ],
   "source": [
    "d = 11\n",
    "average(a, d, b)"
   ]
  },
  {
   "cell_type": "code",
   "execution_count": 6,
   "id": "643888c9",
   "metadata": {},
   "outputs": [
    {
     "data": {
      "text/plain": [
       "20.333333333333332"
      ]
     },
     "execution_count": 6,
     "metadata": {},
     "output_type": "execute_result"
    }
   ],
   "source": [
    "average(20, 13, 28)"
   ]
  },
  {
   "cell_type": "code",
   "execution_count": 7,
   "id": "fa832988",
   "metadata": {},
   "outputs": [
    {
     "ename": "TypeError",
     "evalue": "average() missing 1 required positional argument: 'z'",
     "output_type": "error",
     "traceback": [
      "\u001b[1;31m---------------------------------------------------------------------------\u001b[0m",
      "\u001b[1;31mTypeError\u001b[0m                                 Traceback (most recent call last)",
      "\u001b[1;32m~\\AppData\\Local\\Temp\\ipykernel_10688\\3521239790.py\u001b[0m in \u001b[0;36m<module>\u001b[1;34m\u001b[0m\n\u001b[1;32m----> 1\u001b[1;33m \u001b[0maverage\u001b[0m\u001b[1;33m(\u001b[0m\u001b[1;36m23\u001b[0m\u001b[1;33m,\u001b[0m \u001b[1;36m32\u001b[0m\u001b[1;33m)\u001b[0m\u001b[1;33m\u001b[0m\u001b[1;33m\u001b[0m\u001b[0m\n\u001b[0m",
      "\u001b[1;31mTypeError\u001b[0m: average() missing 1 required positional argument: 'z'"
     ]
    }
   ],
   "source": [
    "average(23, 32)"
   ]
  },
  {
   "cell_type": "code",
   "execution_count": 8,
   "id": "7f12dd3e",
   "metadata": {},
   "outputs": [
    {
     "ename": "TypeError",
     "evalue": "average() takes 3 positional arguments but 4 were given",
     "output_type": "error",
     "traceback": [
      "\u001b[1;31m---------------------------------------------------------------------------\u001b[0m",
      "\u001b[1;31mTypeError\u001b[0m                                 Traceback (most recent call last)",
      "\u001b[1;32m~\\AppData\\Local\\Temp\\ipykernel_10688\\2231692854.py\u001b[0m in \u001b[0;36m<module>\u001b[1;34m\u001b[0m\n\u001b[1;32m----> 1\u001b[1;33m \u001b[0maverage\u001b[0m\u001b[1;33m(\u001b[0m\u001b[1;36m4\u001b[0m\u001b[1;33m,\u001b[0m \u001b[1;36m2\u001b[0m\u001b[1;33m,\u001b[0m \u001b[1;36m5\u001b[0m\u001b[1;33m,\u001b[0m \u001b[1;36m6\u001b[0m\u001b[1;33m)\u001b[0m\u001b[1;33m\u001b[0m\u001b[1;33m\u001b[0m\u001b[0m\n\u001b[0m",
      "\u001b[1;31mTypeError\u001b[0m: average() takes 3 positional arguments but 4 were given"
     ]
    }
   ],
   "source": [
    "average(4, 2, 5, 6)"
   ]
  },
  {
   "cell_type": "code",
   "execution_count": 9,
   "id": "61eb98f7",
   "metadata": {},
   "outputs": [
    {
     "data": {
      "text/plain": [
       "'HelloWorld'"
      ]
     },
     "execution_count": 9,
     "metadata": {},
     "output_type": "execute_result"
    }
   ],
   "source": [
    "x = 'Hello'\n",
    "y = 'World'\n",
    "sum(x, y)"
   ]
  },
  {
   "cell_type": "code",
   "execution_count": 10,
   "id": "ca386207",
   "metadata": {},
   "outputs": [
    {
     "ename": "TypeError",
     "evalue": "unsupported operand type(s) for /: 'str' and 'float'",
     "output_type": "error",
     "traceback": [
      "\u001b[1;31m---------------------------------------------------------------------------\u001b[0m",
      "\u001b[1;31mTypeError\u001b[0m                                 Traceback (most recent call last)",
      "\u001b[1;32m~\\AppData\\Local\\Temp\\ipykernel_10688\\1386582190.py\u001b[0m in \u001b[0;36m<module>\u001b[1;34m\u001b[0m\n\u001b[1;32m----> 1\u001b[1;33m \u001b[0maverage\u001b[0m\u001b[1;33m(\u001b[0m\u001b[0mx\u001b[0m\u001b[1;33m,\u001b[0m \u001b[0my\u001b[0m\u001b[1;33m,\u001b[0m \u001b[1;34m'Python'\u001b[0m\u001b[1;33m)\u001b[0m\u001b[1;33m\u001b[0m\u001b[1;33m\u001b[0m\u001b[0m\n\u001b[0m",
      "\u001b[1;32m~\\AppData\\Local\\Temp\\ipykernel_10688\\378740933.py\u001b[0m in \u001b[0;36maverage\u001b[1;34m(x, y, z)\u001b[0m\n\u001b[0;32m      1\u001b[0m \u001b[1;32mdef\u001b[0m \u001b[0maverage\u001b[0m\u001b[1;33m(\u001b[0m\u001b[0mx\u001b[0m\u001b[1;33m,\u001b[0m \u001b[0my\u001b[0m\u001b[1;33m,\u001b[0m \u001b[0mz\u001b[0m\u001b[1;33m)\u001b[0m\u001b[1;33m:\u001b[0m\u001b[1;33m\u001b[0m\u001b[1;33m\u001b[0m\u001b[0m\n\u001b[0;32m      2\u001b[0m     \u001b[0mtotal\u001b[0m \u001b[1;33m=\u001b[0m \u001b[0mx\u001b[0m \u001b[1;33m+\u001b[0m \u001b[0my\u001b[0m \u001b[1;33m+\u001b[0m \u001b[0mz\u001b[0m\u001b[1;33m\u001b[0m\u001b[1;33m\u001b[0m\u001b[0m\n\u001b[1;32m----> 3\u001b[1;33m     \u001b[1;32mreturn\u001b[0m \u001b[0mtotal\u001b[0m\u001b[1;33m/\u001b[0m\u001b[1;36m3.0\u001b[0m\u001b[1;33m\u001b[0m\u001b[1;33m\u001b[0m\u001b[0m\n\u001b[0m",
      "\u001b[1;31mTypeError\u001b[0m: unsupported operand type(s) for /: 'str' and 'float'"
     ]
    }
   ],
   "source": [
    "average(x, y, 'Python')"
   ]
  },
  {
   "cell_type": "markdown",
   "id": "8c2b35a9",
   "metadata": {},
   "source": [
    "## Fcunction Scope"
   ]
  },
  {
   "cell_type": "code",
   "execution_count": 16,
   "id": "7ba983fc",
   "metadata": {},
   "outputs": [],
   "source": [
    "def maximum(n1, n2, n3):\n",
    "    larger = n1\n",
    "    if n2 > larger:\n",
    "        larger = n2\n",
    "    if n3 > larger:\n",
    "        larger = n3\n",
    "    return larger # The output of the function Maximum"
   ]
  },
  {
   "cell_type": "code",
   "execution_count": 17,
   "id": "b9fb7849",
   "metadata": {},
   "outputs": [
    {
     "data": {
      "text/plain": [
       "23"
      ]
     },
     "execution_count": 17,
     "metadata": {},
     "output_type": "execute_result"
    }
   ],
   "source": [
    "maximum(23, 12, 15)"
   ]
  },
  {
   "cell_type": "code",
   "execution_count": 18,
   "id": "06e5c698",
   "metadata": {},
   "outputs": [
    {
     "data": {
      "text/plain": [
       "23"
      ]
     },
     "execution_count": 18,
     "metadata": {},
     "output_type": "execute_result"
    }
   ],
   "source": [
    "maximum(12, 23, 15)"
   ]
  },
  {
   "cell_type": "code",
   "execution_count": 19,
   "id": "4cf61fa6",
   "metadata": {},
   "outputs": [
    {
     "data": {
      "text/plain": [
       "23"
      ]
     },
     "execution_count": 19,
     "metadata": {},
     "output_type": "execute_result"
    }
   ],
   "source": [
    "maximum(12, 15, 23)"
   ]
  },
  {
   "cell_type": "code",
   "execution_count": 20,
   "id": "ae278daa",
   "metadata": {},
   "outputs": [
    {
     "ename": "NameError",
     "evalue": "name 'n3' is not defined",
     "output_type": "error",
     "traceback": [
      "\u001b[1;31m---------------------------------------------------------------------------\u001b[0m",
      "\u001b[1;31mNameError\u001b[0m                                 Traceback (most recent call last)",
      "\u001b[1;32m~\\AppData\\Local\\Temp\\ipykernel_10688\\3053003315.py\u001b[0m in \u001b[0;36m<module>\u001b[1;34m\u001b[0m\n\u001b[1;32m----> 1\u001b[1;33m \u001b[0mn3\u001b[0m\u001b[1;33m\u001b[0m\u001b[1;33m\u001b[0m\u001b[0m\n\u001b[0m",
      "\u001b[1;31mNameError\u001b[0m: name 'n3' is not defined"
     ]
    }
   ],
   "source": [
    "n3"
   ]
  },
  {
   "cell_type": "code",
   "execution_count": 21,
   "id": "aecbb5f2",
   "metadata": {},
   "outputs": [
    {
     "ename": "NameError",
     "evalue": "name 'larger' is not defined",
     "output_type": "error",
     "traceback": [
      "\u001b[1;31m---------------------------------------------------------------------------\u001b[0m",
      "\u001b[1;31mNameError\u001b[0m                                 Traceback (most recent call last)",
      "\u001b[1;32m~\\AppData\\Local\\Temp\\ipykernel_10688\\181640333.py\u001b[0m in \u001b[0;36m<module>\u001b[1;34m\u001b[0m\n\u001b[1;32m----> 1\u001b[1;33m \u001b[0mlarger\u001b[0m\u001b[1;33m\u001b[0m\u001b[1;33m\u001b[0m\u001b[0m\n\u001b[0m",
      "\u001b[1;31mNameError\u001b[0m: name 'larger' is not defined"
     ]
    }
   ],
   "source": [
    "larger"
   ]
  },
  {
   "cell_type": "code",
   "execution_count": 22,
   "id": "b381caeb",
   "metadata": {},
   "outputs": [
    {
     "data": {
      "text/plain": [
       "'Hello'"
      ]
     },
     "execution_count": 22,
     "metadata": {},
     "output_type": "execute_result"
    }
   ],
   "source": [
    "x"
   ]
  },
  {
   "cell_type": "code",
   "execution_count": 23,
   "id": "a00397f5",
   "metadata": {},
   "outputs": [
    {
     "data": {
      "text/plain": [
       "'World'"
      ]
     },
     "execution_count": 23,
     "metadata": {},
     "output_type": "execute_result"
    }
   ],
   "source": [
    "y"
   ]
  },
  {
   "cell_type": "code",
   "execution_count": 27,
   "id": "a81c8cc8",
   "metadata": {},
   "outputs": [
    {
     "name": "stdout",
     "output_type": "stream",
     "text": [
      "Python programming\n"
     ]
    }
   ],
   "source": [
    "z = \"Python programming\"\n",
    "print(z)"
   ]
  },
  {
   "cell_type": "code",
   "execution_count": 26,
   "id": "b6e63973",
   "metadata": {},
   "outputs": [
    {
     "data": {
      "text/plain": [
       "'World'"
      ]
     },
     "execution_count": 26,
     "metadata": {},
     "output_type": "execute_result"
    }
   ],
   "source": [
    "maximum(x, y, z)"
   ]
  },
  {
   "cell_type": "code",
   "execution_count": 28,
   "id": "0db381cf",
   "metadata": {},
   "outputs": [],
   "source": [
    "def sample():\n",
    "    print(z)"
   ]
  },
  {
   "cell_type": "code",
   "execution_count": 29,
   "id": "f3749cd9",
   "metadata": {},
   "outputs": [
    {
     "name": "stdout",
     "output_type": "stream",
     "text": [
      "Python programming\n"
     ]
    }
   ],
   "source": [
    "sample()"
   ]
  },
  {
   "cell_type": "code",
   "execution_count": 31,
   "id": "83efc4c8",
   "metadata": {},
   "outputs": [
    {
     "name": "stdout",
     "output_type": "stream",
     "text": [
      "35\n",
      "Python programming\n"
     ]
    }
   ],
   "source": [
    "def sample():\n",
    "    z = 35\n",
    "    print(z)\n",
    "\n",
    "sample()\n",
    "print(z)"
   ]
  },
  {
   "cell_type": "markdown",
   "id": "91989a5d",
   "metadata": {},
   "source": [
    "## Function Parameter Options\n",
    "### Placement of Arguments"
   ]
  },
  {
   "cell_type": "code",
   "execution_count": 33,
   "id": "4ec2f4d8",
   "metadata": {},
   "outputs": [],
   "source": [
    "def printItem(price, code, descritption):\n",
    "    print('Item Price: {0}, Item Code: {1}, Item Description: {2}'.\n",
    "          format(price, code, descritption))"
   ]
  },
  {
   "cell_type": "code",
   "execution_count": 34,
   "id": "b434c3ce",
   "metadata": {},
   "outputs": [],
   "source": [
    "price = 245.75\n",
    "code = \"Item123\"\n",
    "desc = \"Jacket for adults with medium size\"\n"
   ]
  },
  {
   "cell_type": "code",
   "execution_count": 36,
   "id": "489cd278",
   "metadata": {},
   "outputs": [
    {
     "name": "stdout",
     "output_type": "stream",
     "text": [
      "Item Price: 245.75, Item Code: Item123, Item Description: Jacket for adults with medium size\n"
     ]
    }
   ],
   "source": [
    "printItem(price, code, desc)"
   ]
  },
  {
   "cell_type": "code",
   "execution_count": 37,
   "id": "4867ae33",
   "metadata": {},
   "outputs": [
    {
     "name": "stdout",
     "output_type": "stream",
     "text": [
      "Item Price: Item123, Item Code: Jacket for adults with medium size, Item Description: 245.75\n"
     ]
    }
   ],
   "source": [
    "printItem(code, desc, price)"
   ]
  },
  {
   "cell_type": "code",
   "execution_count": 38,
   "id": "6ef886b0",
   "metadata": {},
   "outputs": [],
   "source": [
    "def function1(n, sample_list):\n",
    "    for x in range(n):\n",
    "        print(sample_list[x])"
   ]
  },
  {
   "cell_type": "code",
   "execution_count": 40,
   "id": "1276651f",
   "metadata": {},
   "outputs": [
    {
     "data": {
      "text/plain": [
       "[21, 43, 5, 22]"
      ]
     },
     "execution_count": 40,
     "metadata": {},
     "output_type": "execute_result"
    }
   ],
   "source": [
    "my_list = [21, 43, 5, 22]\n",
    "my_list\n"
   ]
  },
  {
   "cell_type": "code",
   "execution_count": 41,
   "id": "4dc38442",
   "metadata": {},
   "outputs": [
    {
     "name": "stdout",
     "output_type": "stream",
     "text": [
      "21\n",
      "43\n",
      "5\n",
      "22\n"
     ]
    }
   ],
   "source": [
    "function1(4, my_list)"
   ]
  },
  {
   "cell_type": "code",
   "execution_count": 42,
   "id": "5a350352",
   "metadata": {},
   "outputs": [
    {
     "ename": "TypeError",
     "evalue": "'list' object cannot be interpreted as an integer",
     "output_type": "error",
     "traceback": [
      "\u001b[1;31m---------------------------------------------------------------------------\u001b[0m",
      "\u001b[1;31mTypeError\u001b[0m                                 Traceback (most recent call last)",
      "\u001b[1;32m~\\AppData\\Local\\Temp\\ipykernel_10688\\3623217640.py\u001b[0m in \u001b[0;36m<module>\u001b[1;34m\u001b[0m\n\u001b[1;32m----> 1\u001b[1;33m \u001b[0mfunction1\u001b[0m\u001b[1;33m(\u001b[0m\u001b[0mmy_list\u001b[0m\u001b[1;33m,\u001b[0m \u001b[1;36m4\u001b[0m\u001b[1;33m)\u001b[0m\u001b[1;33m\u001b[0m\u001b[1;33m\u001b[0m\u001b[0m\n\u001b[0m",
      "\u001b[1;32m~\\AppData\\Local\\Temp\\ipykernel_10688\\3682279600.py\u001b[0m in \u001b[0;36mfunction1\u001b[1;34m(n, sample_list)\u001b[0m\n\u001b[0;32m      1\u001b[0m \u001b[1;32mdef\u001b[0m \u001b[0mfunction1\u001b[0m\u001b[1;33m(\u001b[0m\u001b[0mn\u001b[0m\u001b[1;33m,\u001b[0m \u001b[0msample_list\u001b[0m\u001b[1;33m)\u001b[0m\u001b[1;33m:\u001b[0m\u001b[1;33m\u001b[0m\u001b[1;33m\u001b[0m\u001b[0m\n\u001b[1;32m----> 2\u001b[1;33m     \u001b[1;32mfor\u001b[0m \u001b[0mx\u001b[0m \u001b[1;32min\u001b[0m \u001b[0mrange\u001b[0m\u001b[1;33m(\u001b[0m\u001b[0mn\u001b[0m\u001b[1;33m)\u001b[0m\u001b[1;33m:\u001b[0m\u001b[1;33m\u001b[0m\u001b[1;33m\u001b[0m\u001b[0m\n\u001b[0m\u001b[0;32m      3\u001b[0m         \u001b[0mprint\u001b[0m\u001b[1;33m(\u001b[0m\u001b[0msample_list\u001b[0m\u001b[1;33m[\u001b[0m\u001b[0mx\u001b[0m\u001b[1;33m]\u001b[0m\u001b[1;33m)\u001b[0m\u001b[1;33m\u001b[0m\u001b[1;33m\u001b[0m\u001b[0m\n",
      "\u001b[1;31mTypeError\u001b[0m: 'list' object cannot be interpreted as an integer"
     ]
    }
   ],
   "source": [
    "function1(my_list, 4)"
   ]
  },
  {
   "cell_type": "code",
   "execution_count": 44,
   "id": "7b74135c",
   "metadata": {},
   "outputs": [
    {
     "name": "stdout",
     "output_type": "stream",
     "text": [
      "21\n",
      "43\n",
      "5\n",
      "22\n"
     ]
    }
   ],
   "source": [
    "function1(n=4, sample_list=my_list)"
   ]
  },
  {
   "cell_type": "code",
   "execution_count": 45,
   "id": "50d7ef1c",
   "metadata": {},
   "outputs": [
    {
     "name": "stdout",
     "output_type": "stream",
     "text": [
      "21\n",
      "43\n",
      "5\n",
      "22\n"
     ]
    }
   ],
   "source": [
    "function1(sample_list = my_list, n = 4)"
   ]
  },
  {
   "cell_type": "markdown",
   "id": "1f176971",
   "metadata": {},
   "source": [
    "## Functions with Default Values"
   ]
  },
  {
   "cell_type": "code",
   "execution_count": 46,
   "id": "d6e44a62",
   "metadata": {},
   "outputs": [],
   "source": [
    "def larger(x, y = 0):\n",
    "    return x if x > y else y"
   ]
  },
  {
   "cell_type": "code",
   "execution_count": 47,
   "id": "3d2b7d9e",
   "metadata": {},
   "outputs": [
    {
     "data": {
      "text/plain": [
       "3"
      ]
     },
     "execution_count": 47,
     "metadata": {},
     "output_type": "execute_result"
    }
   ],
   "source": [
    "larger(3)"
   ]
  },
  {
   "cell_type": "code",
   "execution_count": 48,
   "id": "e66fb56b",
   "metadata": {},
   "outputs": [
    {
     "data": {
      "text/plain": [
       "5"
      ]
     },
     "execution_count": 48,
     "metadata": {},
     "output_type": "execute_result"
    }
   ],
   "source": [
    "larger(4, 5)"
   ]
  },
  {
   "cell_type": "code",
   "execution_count": 49,
   "id": "839a4d56",
   "metadata": {},
   "outputs": [
    {
     "data": {
      "text/plain": [
       "0"
      ]
     },
     "execution_count": 49,
     "metadata": {},
     "output_type": "execute_result"
    }
   ],
   "source": [
    "larger(-3)"
   ]
  },
  {
   "cell_type": "code",
   "execution_count": 50,
   "id": "d08aab6c",
   "metadata": {},
   "outputs": [
    {
     "ename": "TypeError",
     "evalue": "larger() missing 1 required positional argument: 'x'",
     "output_type": "error",
     "traceback": [
      "\u001b[1;31m---------------------------------------------------------------------------\u001b[0m",
      "\u001b[1;31mTypeError\u001b[0m                                 Traceback (most recent call last)",
      "\u001b[1;32m~\\AppData\\Local\\Temp\\ipykernel_10688\\761625984.py\u001b[0m in \u001b[0;36m<module>\u001b[1;34m\u001b[0m\n\u001b[1;32m----> 1\u001b[1;33m \u001b[0mlarger\u001b[0m\u001b[1;33m(\u001b[0m\u001b[1;33m)\u001b[0m\u001b[1;33m\u001b[0m\u001b[1;33m\u001b[0m\u001b[0m\n\u001b[0m",
      "\u001b[1;31mTypeError\u001b[0m: larger() missing 1 required positional argument: 'x'"
     ]
    }
   ],
   "source": [
    "larger()"
   ]
  },
  {
   "cell_type": "markdown",
   "id": "fae13496",
   "metadata": {},
   "source": [
    "# Functions Lab (cont...)"
   ]
  },
  {
   "cell_type": "code",
   "execution_count": 8,
   "id": "afc9e858",
   "metadata": {},
   "outputs": [],
   "source": [
    "i = 5\n",
    "def fun1(x, y = 0, z = i):\n",
    "    min_value = min(x, y, z) # min() returns minimum of the given inputs\n",
    "    return min_value \n"
   ]
  },
  {
   "cell_type": "code",
   "execution_count": 10,
   "id": "b4cd747a",
   "metadata": {},
   "outputs": [
    {
     "data": {
      "text/plain": [
       "0"
      ]
     },
     "execution_count": 10,
     "metadata": {},
     "output_type": "execute_result"
    }
   ],
   "source": [
    "fun1(4)"
   ]
  },
  {
   "cell_type": "code",
   "execution_count": 11,
   "id": "6fd3e385",
   "metadata": {},
   "outputs": [
    {
     "data": {
      "text/plain": [
       "4"
      ]
     },
     "execution_count": 11,
     "metadata": {},
     "output_type": "execute_result"
    }
   ],
   "source": [
    "fun1(4, 7, 6)"
   ]
  },
  {
   "cell_type": "code",
   "execution_count": 12,
   "id": "0ae231bc",
   "metadata": {},
   "outputs": [
    {
     "data": {
      "text/plain": [
       "13"
      ]
     },
     "execution_count": 12,
     "metadata": {},
     "output_type": "execute_result"
    }
   ],
   "source": [
    "fun1(20, 13, 15)"
   ]
  },
  {
   "cell_type": "code",
   "execution_count": 14,
   "id": "cef3c13f",
   "metadata": {},
   "outputs": [
    {
     "name": "stdout",
     "output_type": "stream",
     "text": [
      "10\n"
     ]
    }
   ],
   "source": [
    "i = 10\n",
    "print(i)"
   ]
  },
  {
   "cell_type": "code",
   "execution_count": 15,
   "id": "ab68a3d1",
   "metadata": {},
   "outputs": [
    {
     "data": {
      "text/plain": [
       "5"
      ]
     },
     "execution_count": 15,
     "metadata": {},
     "output_type": "execute_result"
    }
   ],
   "source": [
    "fun1(10, 7)"
   ]
  },
  {
   "cell_type": "markdown",
   "id": "b0e3ad31",
   "metadata": {},
   "source": [
    "### Factorial of a Number?\n",
    "##### Write a python function to find the factorial of for any given number?"
   ]
  },
  {
   "cell_type": "code",
   "execution_count": 17,
   "id": "51d0ebe8",
   "metadata": {},
   "outputs": [],
   "source": [
    "# What is 1! = 1 \n",
    "def fact1():\n",
    "    return 1"
   ]
  },
  {
   "cell_type": "code",
   "execution_count": 18,
   "id": "52452a40",
   "metadata": {},
   "outputs": [],
   "source": [
    "# What is 2! = 2 \n",
    "def fact2():\n",
    "    return 2"
   ]
  },
  {
   "cell_type": "code",
   "execution_count": 19,
   "id": "0976eb5b",
   "metadata": {},
   "outputs": [],
   "source": [
    "# What is 3! = 3 * 2 == 2 * 3\n",
    "def fact3():\n",
    "    return (3 * 2)"
   ]
  },
  {
   "cell_type": "code",
   "execution_count": 16,
   "id": "28ff3bce",
   "metadata": {},
   "outputs": [],
   "source": [
    "# What is 4! = 4*3*2 == 2*3*4\n",
    "def fact4():\n",
    "    fact = 4 * 3 * 2\n",
    "    return fact"
   ]
  },
  {
   "cell_type": "code",
   "execution_count": 20,
   "id": "14341482",
   "metadata": {},
   "outputs": [],
   "source": [
    "# What is 5! = 5*4*3*2 == 2*3*4*5\n",
    "def fact5():\n",
    "    fact = 5 * 4 * 3 * 2\n",
    "    return fact"
   ]
  },
  {
   "cell_type": "code",
   "execution_count": 22,
   "id": "87a95700",
   "metadata": {},
   "outputs": [
    {
     "data": {
      "text/plain": [
       "1"
      ]
     },
     "execution_count": 22,
     "metadata": {},
     "output_type": "execute_result"
    }
   ],
   "source": [
    "fact1()\n"
   ]
  },
  {
   "cell_type": "code",
   "execution_count": 23,
   "id": "974ed50a",
   "metadata": {},
   "outputs": [
    {
     "data": {
      "text/plain": [
       "2"
      ]
     },
     "execution_count": 23,
     "metadata": {},
     "output_type": "execute_result"
    }
   ],
   "source": [
    "fact2()"
   ]
  },
  {
   "cell_type": "code",
   "execution_count": 24,
   "id": "90e41d5e",
   "metadata": {},
   "outputs": [
    {
     "data": {
      "text/plain": [
       "120"
      ]
     },
     "execution_count": 24,
     "metadata": {},
     "output_type": "execute_result"
    }
   ],
   "source": [
    "fact5()"
   ]
  },
  {
   "cell_type": "code",
   "execution_count": 25,
   "id": "89f9fc08",
   "metadata": {},
   "outputs": [],
   "source": [
    "# What is 50!\n",
    "def fact50():\n",
    "    fact = 1\n",
    "    for x in range(2, 51):\n",
    "        fact *= x\n",
    "    return fact"
   ]
  },
  {
   "cell_type": "code",
   "execution_count": 26,
   "id": "8af61dae",
   "metadata": {},
   "outputs": [
    {
     "data": {
      "text/plain": [
       "30414093201713378043612608166064768844377641568960512000000000000"
      ]
     },
     "execution_count": 26,
     "metadata": {},
     "output_type": "execute_result"
    }
   ],
   "source": [
    "fact50()"
   ]
  },
  {
   "cell_type": "code",
   "execution_count": 39,
   "id": "bcde0959",
   "metadata": {},
   "outputs": [],
   "source": [
    "# What is n!\n",
    "def factorial(n = 1):\n",
    "    fact = 1\n",
    "    for x in range(2, (n + 1)):\n",
    "        fact *= x\n",
    "    return fact"
   ]
  },
  {
   "cell_type": "code",
   "execution_count": 41,
   "id": "ea366857",
   "metadata": {},
   "outputs": [
    {
     "data": {
      "text/plain": [
       "120"
      ]
     },
     "execution_count": 41,
     "metadata": {},
     "output_type": "execute_result"
    }
   ],
   "source": [
    "factorial(5)"
   ]
  },
  {
   "cell_type": "markdown",
   "id": "e1b82d56",
   "metadata": {},
   "source": [
    "# Recursive function\n",
    "A function which calls itself"
   ]
  },
  {
   "cell_type": "code",
   "execution_count": 42,
   "id": "9e7ac529",
   "metadata": {},
   "outputs": [],
   "source": [
    "# What is n!\n",
    "def factorial_rec(n = 1):\n",
    "    if n == 1:\n",
    "        return 1\n",
    "    else:\n",
    "        return n * factorial_rec(n-1) # Function call to itself"
   ]
  },
  {
   "cell_type": "code",
   "execution_count": 44,
   "id": "3caea402",
   "metadata": {},
   "outputs": [
    {
     "data": {
      "text/plain": [
       "120"
      ]
     },
     "execution_count": 44,
     "metadata": {},
     "output_type": "execute_result"
    }
   ],
   "source": [
    "factorial_rec(5)"
   ]
  },
  {
   "cell_type": "markdown",
   "id": "d6b6e022",
   "metadata": {},
   "source": [
    "## Exercise: \n",
    "### 1. Find all even even numbers upto a given number n\n",
    "     Example: n = 10\n",
    "     outpout: 2, 4, 6, 8\n"
   ]
  },
  {
   "cell_type": "markdown",
   "id": "562ab5b1",
   "metadata": {},
   "source": [
    "### 2. All odd numbers between 100 to 130\n",
    "    Output: 101, 103, 105, ..., 129"
   ]
  },
  {
   "cell_type": "markdown",
   "id": "c827010a",
   "metadata": {},
   "source": [
    "### 3. Find the largest and the smallest element from a matrix of NxM\n",
    "    Example\n",
    "        [[23, 53, 23], [23, 33, 31], [47, 25, 75], [87, 55, 75]]\n",
    "    Output: \n",
    "        Largest value is 87\n",
    "        Smallest value is 23"
   ]
  },
  {
   "cell_type": "markdown",
   "id": "2e9c7e22",
   "metadata": {},
   "source": [
    "### 4. Find the fibonacci sequence/numbers upto n.\n",
    "##### write your answers in both recursive and non-recursive implementations \n",
    "    Example: if n = 10\n",
    "        Output: 1, 1, 2, 3, 5, 8\n",
    "    Example2: if n = 30:\n",
    "        output: 1, 1, 2, 3, 5, 8, 13, 21"
   ]
  },
  {
   "cell_type": "code",
   "execution_count": null,
   "id": "13fdff83",
   "metadata": {},
   "outputs": [],
   "source": []
  }
 ],
 "metadata": {
  "kernelspec": {
   "display_name": "Python 3 (ipykernel)",
   "language": "python",
   "name": "python3"
  },
  "language_info": {
   "codemirror_mode": {
    "name": "ipython",
    "version": 3
   },
   "file_extension": ".py",
   "mimetype": "text/x-python",
   "name": "python",
   "nbconvert_exporter": "python",
   "pygments_lexer": "ipython3",
   "version": "3.9.13"
  }
 },
 "nbformat": 4,
 "nbformat_minor": 5
}

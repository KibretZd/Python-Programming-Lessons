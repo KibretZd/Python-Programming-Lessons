{
 "cells": [
  {
   "cell_type": "markdown",
   "id": "01eb040f",
   "metadata": {},
   "source": [
    "# Flow Control in Python Programming\n",
    "## Conditional Statements\n",
    "### if Statement\n",
    "\n",
    "#### Example 1: Find the absolute value os a given number"
   ]
  },
  {
   "cell_type": "code",
   "execution_count": 14,
   "id": "ffdae449",
   "metadata": {},
   "outputs": [
    {
     "name": "stdout",
     "output_type": "stream",
     "text": [
      "Enter an integer: -5\n",
      "The absolute value of -5 is 5\n"
     ]
    }
   ],
   "source": [
    "x = int(input(\"Enter an integer: \"))\n",
    "abs_x = x\n",
    "if x < 0:\n",
    "    abs_x = -x\n",
    "print(\"The absolute value of {0} is {1}\".format(x, abs_x))\n"
   ]
  },
  {
   "cell_type": "markdown",
   "id": "deaf66d4",
   "metadata": {},
   "source": [
    "#### Example 2: Check a number is even or not\n",
    "Let the user enters a number and Check whether this number is even number or not?"
   ]
  },
  {
   "cell_type": "code",
   "execution_count": 18,
   "id": "95435f7c",
   "metadata": {},
   "outputs": [
    {
     "name": "stdout",
     "output_type": "stream",
     "text": [
      "Enter an integer: 23423\n",
      "23423 is not even number\n"
     ]
    }
   ],
   "source": [
    "x = int(input(\"Enter an integer: \"))\n",
    "if x % 2 == 0:\n",
    "    print(\"{0} is even number\".format(x))\n",
    "else:\n",
    "    print(\"{0} is not even number\".format(x))"
   ]
  },
  {
   "cell_type": "markdown",
   "id": "92b91dce",
   "metadata": {},
   "source": [
    "#### Example 3: Find the largest number given three numbers?\n",
    "Let the user enters the three numbers. You are supposed to print the largest number."
   ]
  },
  {
   "cell_type": "code",
   "execution_count": 21,
   "id": "951d3528",
   "metadata": {},
   "outputs": [
    {
     "name": "stdout",
     "output_type": "stream",
     "text": [
      "Enter first number: 32\n",
      "Enter second number: 22\n",
      "Enter third number: 43\n",
      "43 is the largest\n"
     ]
    }
   ],
   "source": [
    "x = input(\"Enter first number: \")\n",
    "y = input(\"Enter second number: \")\n",
    "z = input(\"Enter third number: \")\n",
    "\n",
    "# Find the largest number\n",
    "if x > y:\n",
    "    if x > z:\n",
    "        print(\"{0} is the largest\".format(x))\n",
    "    else:\n",
    "        print(\"{0} is the largest\".format(z))\n",
    "elif y > z:\n",
    "    print(\"{0} is the largest\".format(y))\n",
    "else:\n",
    "    print(\"{0} is the largest\".format(z))"
   ]
  },
  {
   "cell_type": "markdown",
   "id": "d95c8f2a",
   "metadata": {},
   "source": [
    "#### Exercise 1: Check a number is even or odd?\n"
   ]
  },
  {
   "cell_type": "markdown",
   "id": "02f4db26",
   "metadata": {},
   "source": [
    "x = int(input(\"Enter an integer: \"))\n",
    "if _____:\n",
    "    print(....)\n",
    "else:\n",
    "    print..."
   ]
  },
  {
   "cell_type": "markdown",
   "id": "f40bd5fe",
   "metadata": {},
   "source": [
    "## Loop Statements\n",
    "### for loop Statement"
   ]
  },
  {
   "cell_type": "code",
   "execution_count": 30,
   "id": "706b0545",
   "metadata": {},
   "outputs": [
    {
     "name": "stdout",
     "output_type": "stream",
     "text": [
      "The smallest number is 8\n",
      "The smallest number is 6\n",
      "The smallest number is 4\n"
     ]
    }
   ],
   "source": [
    "a = [12, 8, 23, 6, 13, 4, 13, 26, 55, 43, 21]\n",
    "smallest = a[0]\n",
    "for x in a:\n",
    "    if x < smallest:\n",
    "        smallest = x\n",
    "print(\"The smallest number is {0}\".format(smallest))"
   ]
  },
  {
   "cell_type": "code",
   "execution_count": 31,
   "id": "c056c729",
   "metadata": {},
   "outputs": [
    {
     "name": "stdout",
     "output_type": "stream",
     "text": [
      "0\n",
      "1\n",
      "2\n",
      "3\n",
      "4\n",
      "5\n",
      "6\n",
      "7\n",
      "8\n",
      "9\n"
     ]
    }
   ],
   "source": [
    "for x in range(10):\n",
    "    print(x)"
   ]
  },
  {
   "cell_type": "code",
   "execution_count": 32,
   "id": "0a70af68",
   "metadata": {},
   "outputs": [
    {
     "name": "stdout",
     "output_type": "stream",
     "text": [
      "0\n",
      "1\n",
      "2\n",
      "3\n",
      "4\n",
      "5\n",
      "6\n",
      "7\n",
      "8\n",
      "9\n",
      "10\n"
     ]
    }
   ],
   "source": [
    "for x in range(len(a)):\n",
    "    print(x)"
   ]
  },
  {
   "cell_type": "code",
   "execution_count": 33,
   "id": "42a6fd5f",
   "metadata": {},
   "outputs": [
    {
     "name": "stdout",
     "output_type": "stream",
     "text": [
      "1\n",
      "3\n",
      "5\n",
      "7\n",
      "9\n",
      "11\n",
      "13\n",
      "15\n",
      "17\n",
      "19\n",
      "21\n",
      "23\n",
      "25\n",
      "27\n",
      "29\n",
      "31\n",
      "33\n",
      "35\n",
      "37\n",
      "39\n",
      "41\n",
      "43\n",
      "45\n",
      "47\n",
      "49\n",
      "51\n",
      "53\n",
      "55\n",
      "57\n",
      "59\n",
      "61\n",
      "63\n",
      "65\n",
      "67\n",
      "69\n",
      "71\n",
      "73\n",
      "75\n",
      "77\n",
      "79\n",
      "81\n",
      "83\n",
      "85\n",
      "87\n",
      "89\n",
      "91\n",
      "93\n",
      "95\n",
      "97\n",
      "99\n"
     ]
    }
   ],
   "source": [
    "# print odd numbers from 0 to 100\n",
    "for x in range(100):\n",
    "    if x % 2 != 0:\n",
    "        print(x)"
   ]
  },
  {
   "cell_type": "code",
   "execution_count": 35,
   "id": "1bf99f62",
   "metadata": {},
   "outputs": [
    {
     "name": "stdout",
     "output_type": "stream",
     "text": [
      "Odd numbers  [1, 3, 5, 7, 9, 11, 13, 15, 17, 19]\n",
      "Even numbers  [0, 2, 4, 6, 8, 10, 12, 14, 16, 18]\n"
     ]
    }
   ],
   "source": [
    "odd_numbers=[]\n",
    "even_numbers=[]\n",
    "for x in range(20):\n",
    "    if x % 2 == 0:\n",
    "        even_numbers.append(x)\n",
    "    else:\n",
    "        odd_numbers.append(x)\n",
    "print(\"Odd numbers \", odd_numbers)\n",
    "print(\"Even numbers \", even_numbers)     "
   ]
  }
 ],
 "metadata": {
  "kernelspec": {
   "display_name": "Python 3 (ipykernel)",
   "language": "python",
   "name": "python3"
  },
  "language_info": {
   "codemirror_mode": {
    "name": "ipython",
    "version": 3
   },
   "file_extension": ".py",
   "mimetype": "text/x-python",
   "name": "python",
   "nbconvert_exporter": "python",
   "pygments_lexer": "ipython3",
   "version": "3.9.13"
  }
 },
 "nbformat": 4,
 "nbformat_minor": 5
}
